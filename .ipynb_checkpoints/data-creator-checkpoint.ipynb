{
 "cells": [
  {
   "cell_type": "code",
   "execution_count": 6,
   "metadata": {},
   "outputs": [],
   "source": [
    "import os\n",
    "import numpy as np\n",
    "import tensorflow as tf\n",
    "import datetime; \n",
    "import pandas as pd\n",
    "import matplotlib.pyplot as plt\n",
    "import math\n",
    "\n",
    "from time import time\n",
    "from shutil import copy2, rmtree, copytree\n",
    "from tqdm import tqdm\n",
    "from sys import stdout\n",
    "from os import listdir, makedirs, remove\n",
    "from os.path import isfile, join, isdir, exists, dirname, abspath\n",
    "from inspect import getsourcefile\n",
    "from tensorflow import keras\n",
    "from numpy.random import seed\n",
    "from sklearn.decomposition import PCA\n",
    "from sklearn.preprocessing import StandardScaler\n",
    "from sklearn.metrics import classification_report, confusion_matrix\n",
    "from itertools import product\n",
    "\n",
    "from PIL import ImageFile, Image\n",
    "ImageFile.LOAD_TRUNCATED_IMAGES = True\n"
   ]
  },
  {
   "cell_type": "code",
   "execution_count": 8,
   "metadata": {},
   "outputs": [],
   "source": [
    "def getFolders(path):\n",
    "    return [d for d in listdir(path) if isdir(join(path, d))]\n",
    "\n",
    "def getFolderFiles(path: str):\n",
    "    return [f for f in listdir(path) if isfile(join(path, f))]  \n",
    "def createFolderIfNotExist(folderPath):\n",
    "    if not exists(folderPath):\n",
    "        makedirs(folderPath)\n",
    "\n",
    "def deleteIfExist(filepath):\n",
    "    if exists(filepath):\n",
    "        rmtree(filepath)\n",
    "        \n",
    "def resetFolderIfExist(path : str):\n",
    "    deleteIfExist(path)\n",
    "    createFolderIfNotExist(path)\n"
   ]
  },
  {
   "cell_type": "code",
   "execution_count": 14,
   "metadata": {},
   "outputs": [
    {
     "data": {
      "text/plain": [
       "['landscapes', 'meme', 'person', 'scary', 'momo', 'montains']"
      ]
     },
     "execution_count": 14,
     "metadata": {},
     "output_type": "execute_result"
    }
   ],
   "source": [
    "DS_FOLDER = \"./basic/\"\n",
    "CREATOR_FOLDER = \"./creator/\"\n",
    "CREATOR_OUT  = CREATOR_FOLDER + \"expanded/\"\n",
    "PLACEHOLDER_FOLDER = CREATOR_FOLDER + \"placeholders/\"\n",
    "PL_W = 299\n",
    "PL_H = 299\n",
    "folderClasses = getFolders(DS_FOLDER)\n",
    "folderClasses\n"
   ]
  },
  {
   "cell_type": "markdown",
   "metadata": {},
   "source": [
    "# Load placeholder as PIL images"
   ]
  },
  {
   "cell_type": "code",
   "execution_count": 19,
   "metadata": {},
   "outputs": [
    {
     "data": {
      "text/plain": [
       "[<PIL.Image.Image image mode=RGB size=299x299 at 0x15463EB50>,\n",
       " <PIL.Image.Image image mode=RGB size=299x299 at 0x15463ECD0>,\n",
       " <PIL.Image.Image image mode=RGB size=299x299 at 0x1545E3F50>,\n",
       " <PIL.Image.Image image mode=RGB size=299x299 at 0x154652250>,\n",
       " <PIL.Image.Image image mode=RGB size=299x299 at 0x154652CD0>,\n",
       " <PIL.Image.Image image mode=RGB size=299x299 at 0x154652ED0>,\n",
       " <PIL.Image.Image image mode=RGB size=299x299 at 0x154652F10>,\n",
       " <PIL.Image.Image image mode=RGB size=299x299 at 0x154652E90>,\n",
       " <PIL.Image.Image image mode=RGB size=299x299 at 0x154652E50>,\n",
       " <PIL.Image.Image image mode=RGB size=299x299 at 0x15463E0D0>]"
      ]
     },
     "execution_count": 19,
     "metadata": {},
     "output_type": "execute_result"
    }
   ],
   "source": [
    "placeholderImages = []\n",
    "\n",
    "\n",
    "for plfile in getFolderFiles(PLACEHOLDER_FOLDER):\n",
    "    path = PLACEHOLDER_FOLDER + plfile\n",
    "    placeholderIMG = Image.open(path)\n",
    "    placeholderIMG = placeholderIMG.resize((PL_W, PL_H))\n",
    "    \n",
    "    placeholderImages.append(placeholderIMG)\n",
    "\n",
    "placeholderImages"
   ]
  },
  {
   "cell_type": "markdown",
   "metadata": {},
   "source": [
    "# Load all dataset images as PIL images"
   ]
  },
  {
   "cell_type": "code",
   "execution_count": 27,
   "metadata": {},
   "outputs": [
    {
     "data": {
      "text/plain": [
       "476"
      ]
     },
     "execution_count": 27,
     "metadata": {},
     "output_type": "execute_result"
    }
   ],
   "source": [
    "\n",
    "noMomoDatasetImages = []\n",
    "\n",
    "for fclass in folderClasses:\n",
    "    # omit momo\n",
    "    if fclass == \"momo\":\n",
    "        break\n",
    "        \n",
    "    folderPath = DS_FOLDER + fclass + \"/\"\n",
    "    \n",
    "    filesFolderClass = getFolderFiles(folderPath)\n",
    "    \n",
    "    for filename in filesFolderClass:\n",
    "        filePath = folderPath + filename\n",
    "        noMomoDatasetImages.append(Image.open(filePath))\n",
    "        \n",
    "len(noMomoDatasetImages)\n",
    "        "
   ]
  },
  {
   "cell_type": "markdown",
   "metadata": {},
   "source": [
    "# Paste placeholders in each image of the dataset "
   ]
  },
  {
   "cell_type": "code",
   "execution_count": null,
   "metadata": {},
   "outputs": [],
   "source": [
    "# Paste the momo image each 50 px\n",
    "STRIDE_W = 50\n",
    "STRIDE_H = 50\n",
    "IMAGES_WITH_PLACEHOLDERS =[]\n",
    "for phImg in placeholderImages:\n",
    "    for inputImg in noMomoDatasetImages:\n",
    "        width, height = inputImg.size\n",
    "        \n",
    "        pos_x =  np.arange(0,width,STRIDE_W)\n",
    "        pos_y =  np.arange(0,height,STRIDE_H)\n",
    "        \n",
    "        for y in pos_y:\n",
    "            for x in pos_x:\n",
    "                \n",
    "                out = inputImg.copy()\n",
    "                out.paste(phImg, (x,y))\n",
    "                IMAGES_WITH_PLACEHOLDERS.append(out)\n",
    "\n",
    "len(out)"
   ]
  }
 ],
 "metadata": {
  "kernelspec": {
   "display_name": "Python 3",
   "language": "python",
   "name": "python3"
  },
  "language_info": {
   "codemirror_mode": {
    "name": "ipython",
    "version": 3
   },
   "file_extension": ".py",
   "mimetype": "text/x-python",
   "name": "python",
   "nbconvert_exporter": "python",
   "pygments_lexer": "ipython3",
   "version": "3.7.6"
  }
 },
 "nbformat": 4,
 "nbformat_minor": 4
}
